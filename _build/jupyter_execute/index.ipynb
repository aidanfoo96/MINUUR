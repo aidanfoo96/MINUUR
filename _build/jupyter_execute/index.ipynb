{
 "cells": [
  {
   "cell_type": "markdown",
   "id": "88460e3d",
   "metadata": {},
   "source": [
    "# Introduction \n",
    "\n",
    "Hello! MINUUR is a metagenomics workflow I developed to pull metagenomic information from publicly available mosquito whole genome sequencing data. Data from the *Anopheles gambiae* 1000 genomes resource and various other sequencing projects on the European Nucleotide Archive produce a huge amount of short read shotgun sequencing data pertaining to the mosquito. However, many of the reads not associated to the mosquito (unmapped reads), are valuable sources of metagenomic information to us microbiome researchers. :) \n",
    "\n",
    "This workflow I developed serves two purposes 1. A way to reproduce a large amount of work from my PhD, which involved creating a repository of high-quality mosquito associated metagenome-assembeld genomes (MAGs) for further analysis, recovered from mosquito WGS data and 2. For those interested in following a similar approach to mine, a (hopefully) straight-forward way to perform this analysis in an organism of your choosing.\n",
    "\n",
    "One of the biggest points to consider when running this type of analysis is whether the information you are recovering pertains to \"true\" symbionts or artifacts from sequencing (i.e index hopping, contamination from library prep etc) - see these papers [1](https://journals.plos.org/plospathogens/article?id=10.1371/journal.ppat.1004437) [2](https://www.nature.com/articles/s41598-022-13269-z). Making this distinction is difficult, but some steps I would suggest would be to cross reference your MAGs with symbionts previously identified within your host domain and commonly identified contaminants, and placing your genomes within the wider context of the species population. Here you could use FastANI or MASH to identify their level of similarity with one another and other host-associated microbes (if this information is available to you).\n",
    "\n",
    "(section-label)=\n",
    "\n",
    "## The Workflow\n",
    "```{tableofcontents}\n",
    "```\n",
    "##### Any Questions?\n",
    "Please send me an email on aidan.foo@lstmed.ac.uk."
   ]
  }
 ],
 "metadata": {
  "jupytext": {
   "text_representation": {
    "extension": ".md",
    "format_name": "myst"
   }
  },
  "kernelspec": {
   "display_name": "Python 3",
   "language": "python",
   "name": "python3"
  },
  "language_info": {
   "codemirror_mode": {
    "name": "ipython",
    "version": 3
   },
   "file_extension": ".py",
   "mimetype": "text/x-python",
   "name": "python",
   "nbconvert_exporter": "python",
   "pygments_lexer": "ipython3",
   "version": "3.11.0"
  },
  "source_map": [
   10
  ]
 },
 "nbformat": 4,
 "nbformat_minor": 5
}